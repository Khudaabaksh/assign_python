{
 "cells": [
  {
   "cell_type": "raw",
   "id": "d1f363ae",
   "metadata": {},
   "source": [
    "1. In the below elements which of them are values or an expression? eg:- values can be\n",
    "integer or string and expressions will be mathematical operators.\n",
    "\n",
    "ANSWER:\n",
    "expression are    *           -             /         +\n",
    "values are        'hello'     -87.8         6"
   ]
  },
  {
   "cell_type": "raw",
   "id": "77c07ebf",
   "metadata": {},
   "source": [
    "2. What is the difference between string and variable?\n",
    "\n",
    "ANSWER:\n",
    "STRING is a collection of alphabets, words or other characters. It is one of the primitive data structures and are the building blocks for data manipulation. Python has a built-in string class named str . Python strings are \"immutable\" which means they cannot be changed after they are created.\n",
    "\n",
    "VARIABLE is a reserved memory location to store values."
   ]
  },
  {
   "cell_type": "code",
   "execution_count": 1,
   "id": "ffe3eb68",
   "metadata": {},
   "outputs": [
    {
     "name": "stdout",
     "output_type": "stream",
     "text": [
      "hammad\n"
     ]
    }
   ],
   "source": [
    "#example of string\n",
    "s=\"hammad\" #creation of string\n",
    "print(s)"
   ]
  },
  {
   "cell_type": "code",
   "execution_count": 2,
   "id": "5e44d3e1",
   "metadata": {},
   "outputs": [
    {
     "name": "stdout",
     "output_type": "stream",
     "text": [
      "565\n"
     ]
    }
   ],
   "source": [
    "#example of variable\n",
    "s=565 #creation of variable\n",
    "print(s)"
   ]
  },
  {
   "cell_type": "raw",
   "id": "2ed31bf5",
   "metadata": {},
   "source": [
    "3. Describe three different data types.\n",
    "\n",
    "ANSWER:\n",
    "Data types in Python are Numeric,sequence, Dictionary,boolean and set. Since 3 are asked\n",
    "A: NUMERIC data type represent the data which has numeric value. Numeric value can be integer, floating number or even complex numbers. These values are defined as int, float and complex class in Python.\n",
    "B: SEQUENCE is the ordered collection of similar or different data types. Sequences allows to store multiple values in an organized and efficient fashion. There are several sequence types in Python like String,List,Tuple.\n",
    "C: BOOL Datatype has two built-in values, True or False."
   ]
  },
  {
   "cell_type": "code",
   "execution_count": 6,
   "id": "d3fd4783",
   "metadata": {},
   "outputs": [
    {
     "name": "stdout",
     "output_type": "stream",
     "text": [
      "56 is a integer\n",
      "56.0 is a float\n",
      "(56+1j) is a complex\n"
     ]
    }
   ],
   "source": [
    "#numeric\n",
    "i= 56\n",
    "f= 56.0\n",
    "c= 56+1j\n",
    "print(\"{} is a integer\".format(i))\n",
    "print(\"{} is a float\".format(f))\n",
    "print(\"{} is a complex\".format(c))"
   ]
  },
  {
   "cell_type": "code",
   "execution_count": 7,
   "id": "bf08519e",
   "metadata": {},
   "outputs": [
    {
     "name": "stdout",
     "output_type": "stream",
     "text": [
      "hammad is a string\n",
      "['mohd', 'hammad', 'khan'] is a list\n",
      "('mohd', 'hammad', 'khan') is a tuple\n"
     ]
    }
   ],
   "source": [
    "#sequence\n",
    "s=\"hammad\"\n",
    "l=[\"mohd\",\"hammad\",\"khan\"]\n",
    "t=(\"mohd\",\"hammad\",\"khan\")\n",
    "print(\"{} is a string\".format(s))\n",
    "print(\"{} is a list\".format(l))\n",
    "print(\"{} is a tuple\".format(t))"
   ]
  },
  {
   "cell_type": "code",
   "execution_count": 8,
   "id": "3c76322f",
   "metadata": {},
   "outputs": [
    {
     "name": "stdout",
     "output_type": "stream",
     "text": [
      "True is a bool\n",
      "False is a bool\n"
     ]
    }
   ],
   "source": [
    "#bool\n",
    "t=True\n",
    "f=False\n",
    "print(\"{} is a bool\".format(t))\n",
    "print(\"{} is a bool\".format(f))"
   ]
  },
  {
   "cell_type": "raw",
   "id": "2015591f",
   "metadata": {},
   "source": [
    "4. What is an expression made up of? What do all expressions do?\n",
    "\n",
    "ANSWER:\n",
    " An expression is a combination of values, variables, operators, and calls to functions. Expressions need to be evaluated. If you ask Python to print an expression, the interpreter evaluates the expression and displays the result."
   ]
  },
  {
   "cell_type": "code",
   "execution_count": 9,
   "id": "e32bfeb1",
   "metadata": {},
   "outputs": [
    {
     "name": "stdout",
     "output_type": "stream",
     "text": [
      "50000\n"
     ]
    }
   ],
   "source": [
    "#example of expression\n",
    "P,R,T=1000,10,5\n",
    "simple_int=P*R*T#expression\n",
    "print(simple_int)"
   ]
  },
  {
   "cell_type": "raw",
   "id": "82be5fcb",
   "metadata": {},
   "source": [
    "5. This assignment statements, like spam = 10. What is the difference between an expression and a statement?\n",
    "\n",
    "ANSWER:\n",
    "\n",
    "assignment statement assign value in variable, like 10 will be assign in spam named variable.\n",
    "Expression is a combination of values, variables, operators, and calls to functions. Expressions need to be evaluated.\n",
    "\n",
    "Statement is a structured instruction that does something i.e. some action takes place."
   ]
  },
  {
   "cell_type": "code",
   "execution_count": 10,
   "id": "83093255",
   "metadata": {},
   "outputs": [
    {
     "name": "stdout",
     "output_type": "stream",
     "text": [
      "50000\n"
     ]
    }
   ],
   "source": [
    "spam = 10 #assignment\n",
    "P,R,T=1000,10,5\n",
    "simple_int=P*R*T#expression\n",
    "print(simple_int) #statement"
   ]
  },
  {
   "cell_type": "raw",
   "id": "bd8af49e",
   "metadata": {},
   "source": [
    "6. After running the following code, what does the variable bacon contain?\n",
    "bacon = 22\n",
    "bacon + 1\n",
    "\n",
    "ANSWER: it shows 22 because assignment is not done in previous bacon"
   ]
  },
  {
   "cell_type": "code",
   "execution_count": 15,
   "id": "933de6fc",
   "metadata": {},
   "outputs": [
    {
     "name": "stdout",
     "output_type": "stream",
     "text": [
      "bacon contain 22\n"
     ]
    }
   ],
   "source": [
    "bacon=22\n",
    "bacon+1\n",
    "print(\"bacon contain\",bacon)"
   ]
  },
  {
   "cell_type": "raw",
   "id": "a9ca4c47",
   "metadata": {},
   "source": [
    "7. What should the values of the following two terms be?\n",
    "'spam' + 'spamspam'\n",
    "'spam'*3\n",
    "\n",
    "ANSWER: it will be same output"
   ]
  },
  {
   "cell_type": "code",
   "execution_count": 20,
   "id": "870d261b",
   "metadata": {},
   "outputs": [
    {
     "name": "stdout",
     "output_type": "stream",
     "text": [
      "spamspamspam\n",
      "spamspamspam\n"
     ]
    }
   ],
   "source": [
    "print('spam' + 'spamspam')\n",
    "print('spam'*3)"
   ]
  },
  {
   "cell_type": "raw",
   "id": "33724c83",
   "metadata": {},
   "source": [
    "8. Why is eggs a valid variable name while 100 is invalid?\n",
    "\n",
    "ANSWER:\n",
    "since there are certain rules to create a variable name:\n",
    "1: A variable name must start with a letter or the underscore character.\n",
    "2: A variable name cannot start with a number.\n",
    "3: A variable name can only contain alpha-numeric characters and underscores (A-z, 0-9, and _ ).\n",
    "4: Variable names are case-sensitive (name, Name and NAME are three different variables).\n",
    "5: The reserved words(keywords) cannot be used naming the variable.\n",
    "\n",
    "so eggs follows above condition and 100 voilates condition 2"
   ]
  },
  {
   "cell_type": "raw",
   "id": "9c53c222",
   "metadata": {},
   "source": [
    "9. What three functions can be used to get the integer, floating-point number, or string version of a value?\n",
    "\n",
    "ANSWER:\n",
    "The int() , float() , and str( ) functions will evaluate to the integer, floating-point number, and string versions of the value passed to them."
   ]
  },
  {
   "cell_type": "code",
   "execution_count": 23,
   "id": "4aa856cc",
   "metadata": {},
   "outputs": [
    {
     "name": "stdout",
     "output_type": "stream",
     "text": [
      "9324\n",
      "9324.3423\n",
      "9324.3423\n"
     ]
    }
   ],
   "source": [
    "number= 9324.3423\n",
    "print(int(number))\n",
    "print(float(number))\n",
    "print(str(number))"
   ]
  },
  {
   "cell_type": "raw",
   "id": "1a1e3860",
   "metadata": {},
   "source": [
    "10. Why does this expression cause an error? How can you fix it?\n",
    "'I have eaten' + 99 + 'burritos'\n",
    "\n",
    "ANSWER:\n",
    "Since python can only concatenate str (not \"int\") to str. To fix this we have to use type casting"
   ]
  },
  {
   "cell_type": "code",
   "execution_count": 25,
   "id": "9e2e31f9",
   "metadata": {},
   "outputs": [
    {
     "data": {
      "text/plain": [
       "'I have eaten99burritos'"
      ]
     },
     "execution_count": 25,
     "metadata": {},
     "output_type": "execute_result"
    }
   ],
   "source": [
    "'I have eaten' + str(99) + 'burritos'"
   ]
  },
  {
   "cell_type": "code",
   "execution_count": null,
   "id": "7878a8da",
   "metadata": {},
   "outputs": [],
   "source": []
  }
 ],
 "metadata": {
  "kernelspec": {
   "display_name": "Python 3 (ipykernel)",
   "language": "python",
   "name": "python3"
  },
  "language_info": {
   "codemirror_mode": {
    "name": "ipython",
    "version": 3
   },
   "file_extension": ".py",
   "mimetype": "text/x-python",
   "name": "python",
   "nbconvert_exporter": "python",
   "pygments_lexer": "ipython3",
   "version": "3.9.7"
  }
 },
 "nbformat": 4,
 "nbformat_minor": 5
}
