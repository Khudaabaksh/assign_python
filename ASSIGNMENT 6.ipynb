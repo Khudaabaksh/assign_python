{
 "cells": [
  {
   "cell_type": "raw",
   "id": "b5012e07",
   "metadata": {},
   "source": [
    "1. What are escape characters, and how do you use them?\n",
    "\n",
    "ANSWER:\n",
    "To insert characters that are illegal in a string, use an escape character.\n",
    "An escape character is a backslash \\ followed by the character you want to insert."
   ]
  },
  {
   "cell_type": "code",
   "execution_count": 1,
   "id": "88f6b059",
   "metadata": {},
   "outputs": [
    {
     "name": "stdout",
     "output_type": "stream",
     "text": [
      "hello \"hammad\" how you doing\n"
     ]
    }
   ],
   "source": [
    "print(\"hello \\\"hammad\\\" how you doing\")"
   ]
  },
  {
   "cell_type": "raw",
   "id": "6e053b33",
   "metadata": {},
   "source": [
    "2. What do the escape characters n and t stand for?\n",
    "\n",
    "ANSWER:\n",
    "\\n\tNew Line\n",
    "\\t\tTab"
   ]
  },
  {
   "cell_type": "code",
   "execution_count": 3,
   "id": "32bb940a",
   "metadata": {},
   "outputs": [
    {
     "name": "stdout",
     "output_type": "stream",
     "text": [
      "hello \t hammad \n",
      "how you doing\n"
     ]
    }
   ],
   "source": [
    "print(\"hello \\t hammad \\nhow you doing\")"
   ]
  },
  {
   "cell_type": "raw",
   "id": "6953e866",
   "metadata": {},
   "source": [
    "3. What is the way to include backslash characters in a string?\n",
    "\n",
    "ANSWER:\n",
    "An escape character is a backslash \\ followed by the character you want to insert"
   ]
  },
  {
   "cell_type": "code",
   "execution_count": 4,
   "id": "24ddbbc0",
   "metadata": {},
   "outputs": [
    {
     "name": "stdout",
     "output_type": "stream",
     "text": [
      "hello \t hammad\n"
     ]
    }
   ],
   "source": [
    "print(\"hello \\t hammad\")"
   ]
  },
  {
   "cell_type": "raw",
   "id": "6c77713e",
   "metadata": {},
   "source": [
    "4. The string \"Howl's Moving Castle\" is a correct value. Why isn't the single quote character in theword Howl's not escaped a problem?\n",
    "\n",
    "ANSWER:\n",
    "During initalization of string, we can use either single quotes, double quotes or triple single quotes.\n",
    "so using double quotes during initalization,we can use single quotes since its permissible but we cant use double quotes and vice versa"
   ]
  },
  {
   "cell_type": "raw",
   "id": "e8b448fa",
   "metadata": {},
   "source": [
    "5. How do you write a string of newlines if you don't want to use the n character?\n",
    "\n",
    "ANSWER:"
   ]
  },
  {
   "cell_type": "code",
   "execution_count": 6,
   "id": "4b6b4735",
   "metadata": {},
   "outputs": [
    {
     "name": "stdout",
     "output_type": "stream",
     "text": [
      "MOHD\n",
      "HAMMAD\n",
      "KHAN\n"
     ]
    }
   ],
   "source": [
    "newline = '\\n'\n",
    "str = f\"MOHD{newline}HAMMAD{newline}KHAN\"\n",
    "print(str)"
   ]
  },
  {
   "cell_type": "raw",
   "id": "2171a66f",
   "metadata": {},
   "source": [
    "6. What are the values of the given expressions?\n",
    "'Hello, world!'[1]\n",
    "'Hello, world!'[0:5]\n",
    "'Hello, world!'[:5]\n",
    "'Hello, world!'[3:]\n",
    "\n",
    "ANSWER:"
   ]
  },
  {
   "cell_type": "code",
   "execution_count": 8,
   "id": "95df78ae",
   "metadata": {},
   "outputs": [
    {
     "name": "stdout",
     "output_type": "stream",
     "text": [
      "e\n",
      "Hello\n",
      "Hello\n",
      "lo, world!\n"
     ]
    }
   ],
   "source": [
    "print('Hello, world!'[1])\n",
    "print('Hello, world!'[0:5])\n",
    "print('Hello, world!'[:5])\n",
    "print('Hello, world!'[3:])"
   ]
  },
  {
   "cell_type": "raw",
   "id": "635aafd8",
   "metadata": {},
   "source": [
    "7. What are the values of the following expressions?\n",
    "'Hell'.upper()\n",
    "'Hell'.upper().isupper()\n",
    "'Hell'.upper().lower()\n",
    "\n",
    "ANSWER:"
   ]
  },
  {
   "cell_type": "code",
   "execution_count": 11,
   "id": "2aa001a1",
   "metadata": {},
   "outputs": [
    {
     "name": "stdout",
     "output_type": "stream",
     "text": [
      "HELL\n",
      "True\n",
      "hell\n"
     ]
    }
   ],
   "source": [
    "print('Hell'.upper())\n",
    "print('Hell'.upper().isupper())\n",
    "print('Hell'.upper().lower())"
   ]
  },
  {
   "cell_type": "raw",
   "id": "94377dd2",
   "metadata": {},
   "source": [
    "8. What are the values of the following expressions?\n",
    "'Remember, remember, the fifth of July.'.split()\n",
    "'-'.join('There can only one.'.split())\n",
    "\n",
    "ANSWER:"
   ]
  },
  {
   "cell_type": "code",
   "execution_count": 13,
   "id": "ed382c21",
   "metadata": {},
   "outputs": [
    {
     "data": {
      "text/plain": [
       "['Remember,', 'remember,', 'the', 'fifth', 'of', 'July.']"
      ]
     },
     "execution_count": 13,
     "metadata": {},
     "output_type": "execute_result"
    }
   ],
   "source": [
    "'Remember, remember, the fifth of July.'.split()"
   ]
  },
  {
   "cell_type": "code",
   "execution_count": 14,
   "id": "037d6b82",
   "metadata": {},
   "outputs": [
    {
     "data": {
      "text/plain": [
       "'There-can-only-one.'"
      ]
     },
     "execution_count": 14,
     "metadata": {},
     "output_type": "execute_result"
    }
   ],
   "source": [
    "'-'.join('There can only one.'.split())"
   ]
  },
  {
   "cell_type": "raw",
   "id": "41ff532b",
   "metadata": {},
   "source": [
    "9. What are the methods for right-justifying, left-justifying, and centering a string?\n",
    "\n",
    "ANSWER:"
   ]
  },
  {
   "cell_type": "code",
   "execution_count": 18,
   "id": "2e3f22af",
   "metadata": {},
   "outputs": [
    {
     "name": "stdout",
     "output_type": "stream",
     "text": [
      "    hammad\n",
      "hammad    \n",
      "  hammad  \n"
     ]
    }
   ],
   "source": [
    "h=\"hammad\"\n",
    "print(h.rjust(10))\n",
    "print(h.ljust(10))\n",
    "print(h.center(10))"
   ]
  },
  {
   "cell_type": "raw",
   "id": "f1f02ceb",
   "metadata": {},
   "source": [
    "10. What is the best way to remove whitespace characters from the start or end?\n",
    "\n",
    "ANSWER:"
   ]
  },
  {
   "cell_type": "code",
   "execution_count": 21,
   "id": "2556a813",
   "metadata": {},
   "outputs": [
    {
     "data": {
      "text/plain": [
       "'hammad    '"
      ]
     },
     "execution_count": 21,
     "metadata": {},
     "output_type": "execute_result"
    }
   ],
   "source": [
    "h=\"    hammad    \"\n",
    "h.lstrip() #from start"
   ]
  },
  {
   "cell_type": "code",
   "execution_count": 22,
   "id": "f7eaeaaa",
   "metadata": {},
   "outputs": [
    {
     "data": {
      "text/plain": [
       "'    hammad'"
      ]
     },
     "execution_count": 22,
     "metadata": {},
     "output_type": "execute_result"
    }
   ],
   "source": [
    "h=\"    hammad    \"\n",
    "h.rstrip() #from end"
   ]
  }
 ],
 "metadata": {
  "kernelspec": {
   "display_name": "Python 3 (ipykernel)",
   "language": "python",
   "name": "python3"
  },
  "language_info": {
   "codemirror_mode": {
    "name": "ipython",
    "version": 3
   },
   "file_extension": ".py",
   "mimetype": "text/x-python",
   "name": "python",
   "nbconvert_exporter": "python",
   "pygments_lexer": "ipython3",
   "version": "3.9.7"
  }
 },
 "nbformat": 4,
 "nbformat_minor": 5
}
