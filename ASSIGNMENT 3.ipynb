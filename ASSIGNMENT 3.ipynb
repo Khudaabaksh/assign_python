{
 "cells": [
  {
   "cell_type": "raw",
   "id": "7c4dce13",
   "metadata": {},
   "source": [
    "1. Why are functions advantageous to have in your programs?\n",
    "ANSWER:\n",
    "Functions reduce the need for duplicate code.\n",
    "This makes programs shorter, easier to read, and easier to update."
   ]
  },
  {
   "cell_type": "raw",
   "id": "02b97320",
   "metadata": {},
   "source": [
    "2. When does the code in a function run: when it's specified or when it's called?\n",
    "ANSWER:\n",
    "When it is called."
   ]
  },
  {
   "cell_type": "raw",
   "id": "50015f65",
   "metadata": {},
   "source": [
    "3. What statement creates a function?\n",
    "ANSWER:\n",
    "Function in Python is defined by the “def ” statement followed by the function name and parentheses() "
   ]
  },
  {
   "cell_type": "raw",
   "id": "7404ea54",
   "metadata": {},
   "source": [
    "4. What is the difference between a function and a function call? \n",
    "ANSWER:\n",
    "A function call means invoking or calling that function. Unless a function is called there is no use of that function."
   ]
  },
  {
   "cell_type": "raw",
   "id": "96ba0e87",
   "metadata": {},
   "source": [
    "5. How many global scopes are there in a Python program? How many local scopes?\n",
    "ANSWER:\n",
    "There is one global scope, and a local scope is created whenever a function is called."
   ]
  },
  {
   "cell_type": "raw",
   "id": "3281158a",
   "metadata": {},
   "source": [
    "6. What happens to variables in a local scope when the function call returns?\n",
    "ANSWER:\n",
    "When the execution of the function terminates (returns), the local variables are destroyed"
   ]
  },
  {
   "cell_type": "raw",
   "id": "7fcc4303",
   "metadata": {},
   "source": [
    "7. What is the concept of a return value? Is it possible to have a return value in an expression?\n",
    "ANSWER:\n",
    "A return statement is used to end the execution of the function call and “returns” the result (value of the expression following the return keyword) to the caller. The statements after the return statements are not executed. If the return statement is without any expression, then the special value None is returned. \n",
    "yes it is possible to return value in an expression, this is considered as tuple by Python"
   ]
  },
  {
   "cell_type": "raw",
   "id": "6520417f",
   "metadata": {},
   "source": [
    "8. If a function does not have a return statement, what is the return value of a call to that function?\n",
    "ANSWER:\n",
    "If there is no return statement for a function, its return value is None."
   ]
  },
  {
   "cell_type": "raw",
   "id": "7f18d6f2",
   "metadata": {},
   "source": [
    "9. How do you make a function variable refer to the global variable?\n",
    "ANSWER:\n",
    "use global keyword before variable name. i have compare them with example"
   ]
  },
  {
   "cell_type": "code",
   "execution_count": 4,
   "id": "0a106fe2",
   "metadata": {},
   "outputs": [
    {
     "name": "stdout",
     "output_type": "stream",
     "text": [
      "value of a= 13 outside function before calling function\n",
      "ID of a is 2909404883632 outside function before calling function\n",
      "value of a= 130 inside function\n",
      "ID of a is 2909405075856 inside function\n",
      "value of a= 13 outside function after calling function\n",
      "ID of a is 2909404883632 outside function after calling function\n"
     ]
    }
   ],
   "source": [
    "#without global\n",
    "a=13\n",
    "def global_example():\n",
    "    a=130\n",
    "    print(\"value of a= {} inside function\".format(a))\n",
    "    print(\"ID of a is {} inside function\".format(id(a)))\n",
    "print(\"value of a= {} outside function before calling function\".format(a))\n",
    "print(\"ID of a is {} outside function before calling function\".format(id(a)))\n",
    "global_example()\n",
    "print(\"value of a= {} outside function after calling function\".format(a))\n",
    "print(\"ID of a is {} outside function after calling function\".format(id(a)))"
   ]
  },
  {
   "cell_type": "code",
   "execution_count": 3,
   "id": "9dde0461",
   "metadata": {},
   "outputs": [
    {
     "name": "stdout",
     "output_type": "stream",
     "text": [
      "value of a= 13 outside function before calling function\n",
      "ID of a is 2909404883632 outside function before calling function\n",
      "value of a= 130 inside function\n",
      "ID of a is 2909405075856 inside function\n",
      "value of a= 130 outside function after calling function\n",
      "ID of a is 2909405075856 outside function after calling function\n"
     ]
    }
   ],
   "source": [
    "#with global\n",
    "a=13\n",
    "def global_example():\n",
    "    global a\n",
    "    a=130\n",
    "    print(\"value of a= {} inside function\".format(a))\n",
    "    print(\"ID of a is {} inside function\".format(id(a)))\n",
    "print(\"value of a= {} outside function before calling function\".format(a))\n",
    "print(\"ID of a is {} outside function before calling function\".format(id(a)))\n",
    "global_example()\n",
    "print(\"value of a= {} outside function after calling function\".format(a))\n",
    "print(\"ID of a is {} outside function after calling function\".format(id(a)))"
   ]
  },
  {
   "cell_type": "raw",
   "id": "c4330f6e",
   "metadata": {},
   "source": [
    "10. What is the data type of None?\n",
    "ANSWER:\n",
    "The data type of None is NoneType."
   ]
  },
  {
   "cell_type": "raw",
   "id": "2074c73d",
   "metadata": {},
   "source": [
    "11. What does the sentence import areallyourpetsnamederic do?\n",
    "ANSWER:\n",
    "The Python import statement imports code from one module into another program. You can import all the code from a module by specifying the import keyword followed by the module you want to import.\n",
    "it will import a library called \"areallyourpetsnamederic\" if it exists"
   ]
  },
  {
   "cell_type": "raw",
   "id": "f2a4d7aa",
   "metadata": {},
   "source": [
    "12. If you had a bacon() feature in a spam module, what would you call it after importing spam?\n",
    "ANSWER:\n",
    "spam.bacon()"
   ]
  },
  {
   "cell_type": "raw",
   "id": "58acc026",
   "metadata": {},
   "source": [
    "13. What can you do to save a programme from crashing if it encounters an error?\n",
    "ANSWER:\n",
    "you can manage any exceptions by placing this code in a try: … except: … block "
   ]
  },
  {
   "cell_type": "raw",
   "id": "8093d157",
   "metadata": {},
   "source": [
    "14. What is the purpose of the try clause? What is the purpose of the except clause?\n",
    "ANSWER:\n",
    "The try block allows you to test a block of code for errors\n",
    "The except block enables you to handle the error with a user-defined response"
   ]
  }
 ],
 "metadata": {
  "kernelspec": {
   "display_name": "Python 3 (ipykernel)",
   "language": "python",
   "name": "python3"
  },
  "language_info": {
   "codemirror_mode": {
    "name": "ipython",
    "version": 3
   },
   "file_extension": ".py",
   "mimetype": "text/x-python",
   "name": "python",
   "nbconvert_exporter": "python",
   "pygments_lexer": "ipython3",
   "version": "3.9.7"
  }
 },
 "nbformat": 4,
 "nbformat_minor": 5
}
