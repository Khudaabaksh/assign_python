{
 "cells": [
  {
   "cell_type": "raw",
   "id": "649f80a2",
   "metadata": {},
   "source": [
    "1.What are the two values of the Boolean data type? How do you write them?\n",
    "\n",
    "ANSWER:\n",
    "Two values are:\n",
    "True and False"
   ]
  },
  {
   "cell_type": "code",
   "execution_count": 1,
   "id": "3e4c2d35",
   "metadata": {},
   "outputs": [
    {
     "name": "stdout",
     "output_type": "stream",
     "text": [
      "True False\n"
     ]
    }
   ],
   "source": [
    "#example to write them\n",
    "t=True\n",
    "f=False\n",
    "print(t,f)"
   ]
  },
  {
   "cell_type": "raw",
   "id": "42f9497f",
   "metadata": {},
   "source": [
    "2. What are the three different types of Boolean operators?\n",
    "\n",
    "ANSWER:\n",
    "The three basic boolean operators are: AND, OR, and NOT"
   ]
  },
  {
   "cell_type": "code",
   "execution_count": 3,
   "id": "bf5a7122",
   "metadata": {},
   "outputs": [
    {
     "name": "stdout",
     "output_type": "stream",
     "text": [
      "0\n",
      "1\n",
      "True\n"
     ]
    }
   ],
   "source": [
    "#example, but you should know truth table\n",
    "print(1 and 0)\n",
    "print(1 or 0)\n",
    "print(not 0)"
   ]
  },
  {
   "cell_type": "raw",
   "id": "ae1695e5",
   "metadata": {},
   "source": [
    "3. Make a list of each Boolean operator's truth tables (i.e. every possible combination of Boolean values for the operator and what it evaluate ).\n",
    "\n",
    "ANSWER:"
   ]
  },
  {
   "cell_type": "code",
   "execution_count": 6,
   "id": "b870cde7",
   "metadata": {},
   "outputs": [
    {
     "name": "stdout",
     "output_type": "stream",
     "text": [
      "A B RESULT\n",
      "0 0 0\n",
      "0 1 0\n",
      "1 0 0\n",
      "1 1 1\n"
     ]
    }
   ],
   "source": [
    "#AND\n",
    "print(\"A B RESULT\")\n",
    "print(\"0 0\", end=\" \")\n",
    "print(0 and 0)\n",
    "print(\"0 1\", end=\" \")\n",
    "print(0 and 1)\n",
    "print(\"1 0\", end=\" \")\n",
    "print(1 and 0)\n",
    "print(\"1 1\", end=\" \")\n",
    "print(1 and 1)"
   ]
  },
  {
   "cell_type": "code",
   "execution_count": 7,
   "id": "cd572bc9",
   "metadata": {},
   "outputs": [
    {
     "name": "stdout",
     "output_type": "stream",
     "text": [
      "A B RESULT\n",
      "0 0 0\n",
      "0 1 1\n",
      "1 0 1\n",
      "1 1 1\n"
     ]
    }
   ],
   "source": [
    "#OR\n",
    "print(\"A B RESULT\")\n",
    "print(\"0 0\", end=\" \")\n",
    "print(0 or 0)\n",
    "print(\"0 1\", end=\" \")\n",
    "print(0 or 1)\n",
    "print(\"1 0\", end=\" \")\n",
    "print(1 or 0)\n",
    "print(\"1 1\", end=\" \")\n",
    "print(1 or 1)"
   ]
  },
  {
   "cell_type": "code",
   "execution_count": 8,
   "id": "6fdc4a45",
   "metadata": {},
   "outputs": [
    {
     "name": "stdout",
     "output_type": "stream",
     "text": [
      "A RESULT\n",
      "0 True\n",
      "1 False\n"
     ]
    }
   ],
   "source": [
    "#NOT\n",
    "print(\"A RESULT\")\n",
    "print(\"0\", end=\" \")\n",
    "print(not 0)\n",
    "print(\"1\", end=\" \")\n",
    "print(not 1)"
   ]
  },
  {
   "cell_type": "raw",
   "id": "c2d2335a",
   "metadata": {},
   "source": [
    "4. What are the values of the following expressions?\n",
    "(5 > 4) and (3 == 5)\n",
    "not (5 > 4)\n",
    "(5 > 4) or (3 == 5)\n",
    "not ((5 > 4) or (3 == 5))\n",
    "(True and True) and (True == False)\n",
    "(not False) or (not True)\n",
    "\n",
    "ANSWER:"
   ]
  },
  {
   "cell_type": "code",
   "execution_count": 20,
   "id": "c75631c6",
   "metadata": {},
   "outputs": [
    {
     "data": {
      "text/plain": [
       "False"
      ]
     },
     "execution_count": 20,
     "metadata": {},
     "output_type": "execute_result"
    }
   ],
   "source": [
    "(5 > 4) and (3 == 5)"
   ]
  },
  {
   "cell_type": "code",
   "execution_count": 21,
   "id": "41ee1364",
   "metadata": {},
   "outputs": [
    {
     "data": {
      "text/plain": [
       "False"
      ]
     },
     "execution_count": 21,
     "metadata": {},
     "output_type": "execute_result"
    }
   ],
   "source": [
    "not (5 > 4)"
   ]
  },
  {
   "cell_type": "code",
   "execution_count": 22,
   "id": "7d49ea44",
   "metadata": {},
   "outputs": [
    {
     "data": {
      "text/plain": [
       "True"
      ]
     },
     "execution_count": 22,
     "metadata": {},
     "output_type": "execute_result"
    }
   ],
   "source": [
    "(5 > 4) or (3 == 5)"
   ]
  },
  {
   "cell_type": "code",
   "execution_count": 23,
   "id": "3a98ab97",
   "metadata": {},
   "outputs": [
    {
     "data": {
      "text/plain": [
       "False"
      ]
     },
     "execution_count": 23,
     "metadata": {},
     "output_type": "execute_result"
    }
   ],
   "source": [
    "not ((5 > 4) or (3 == 5))"
   ]
  },
  {
   "cell_type": "code",
   "execution_count": 24,
   "id": "a88ef480",
   "metadata": {},
   "outputs": [
    {
     "data": {
      "text/plain": [
       "False"
      ]
     },
     "execution_count": 24,
     "metadata": {},
     "output_type": "execute_result"
    }
   ],
   "source": [
    "(True and True) and (True == False)"
   ]
  },
  {
   "cell_type": "code",
   "execution_count": 25,
   "id": "5a85ce63",
   "metadata": {},
   "outputs": [
    {
     "data": {
      "text/plain": [
       "True"
      ]
     },
     "execution_count": 25,
     "metadata": {},
     "output_type": "execute_result"
    }
   ],
   "source": [
    "(not False) or (not True)"
   ]
  },
  {
   "cell_type": "raw",
   "id": "05a57ca2",
   "metadata": {},
   "source": [
    "5. What are the six comparison operators?\n",
    "\n",
    "ANSWER:\n",
    "equal to ==\n",
    "not equal to !=\n",
    "greater than >\n",
    "greater than or equal to >=\n",
    "less than <\n",
    "and less than or equal to <="
   ]
  },
  {
   "cell_type": "raw",
   "id": "631c9010",
   "metadata": {},
   "source": [
    "6. How do you tell the difference between the equal to and assignment operators?Describe a condition and when you would use one.\n",
    "\n",
    "ANSWER:"
   ]
  },
  {
   "cell_type": "code",
   "execution_count": 26,
   "id": "67cf18a0",
   "metadata": {},
   "outputs": [
    {
     "name": "stdout",
     "output_type": "stream",
     "text": [
      "10\n",
      "a is 10\n"
     ]
    }
   ],
   "source": [
    "#assignment\n",
    "a=10\n",
    "print(a)\n",
    "#equal \n",
    "if 10==a:\n",
    "    print(\"a is 10\") "
   ]
  },
  {
   "cell_type": "raw",
   "id": "feade276",
   "metadata": {},
   "source": [
    "7. Identify the three blocks in this code:\n",
    "spam = 0\n",
    "if spam == 10:\n",
    "print('eggs')\n",
    "if spam > 5:\n",
    "print('bacon')\n",
    "else:\n",
    "print('ham')\n",
    "print('spam')\n",
    "print('spam')"
   ]
  },
  {
   "cell_type": "code",
   "execution_count": 28,
   "id": "3304ece6",
   "metadata": {},
   "outputs": [
    {
     "name": "stdout",
     "output_type": "stream",
     "text": [
      "ham\n",
      "spam\n",
      "spam\n"
     ]
    }
   ],
   "source": [
    "spam = 0\n",
    "if spam == 10:#it wont execute\n",
    "    print('eggs')  #it wont execute\n",
    "if spam > 5:#it wont execute\n",
    "    print('bacon') #it wont execute\n",
    "else: #it will execute since all if  are false\n",
    "    print('ham')\n",
    "    print('spam')\n",
    "    print('spam')"
   ]
  },
  {
   "cell_type": "raw",
   "id": "3b9973cb",
   "metadata": {},
   "source": [
    "8. Write code that prints Hello if 1 is stored in spam, prints Howdy if 2 is stored in spam, and prints Greetings! if anything else is stored in spam.\n",
    "\n",
    "ANSWER:"
   ]
  },
  {
   "cell_type": "code",
   "execution_count": 29,
   "id": "21636a4b",
   "metadata": {},
   "outputs": [
    {
     "name": "stdout",
     "output_type": "stream",
     "text": [
      "1\n",
      "Hello\n"
     ]
    }
   ],
   "source": [
    "spam=int(input())\n",
    "if spam==1:\n",
    "    print(\"Hello\")\n",
    "elif spam==2:\n",
    "    print(\"howdy\")\n",
    "else:\n",
    "    print(\"Greetings!\")"
   ]
  },
  {
   "cell_type": "raw",
   "id": "036f820a",
   "metadata": {},
   "source": [
    "9.If your programme is stuck in an endless loop, what keys you’ll press?\n",
    "\n",
    "ANSWER:\n",
    "You can press Ctrl + C"
   ]
  },
  {
   "cell_type": "raw",
   "id": "26a243f3",
   "metadata": {},
   "source": [
    "10. How can you tell the difference between break and continue?\n",
    "\n",
    "ANSWER:\n",
    "break---->\n",
    "It eliminates the execution of remaining iteration of loop\n",
    "It resume control of program to the end of loop enclosing that ‘break’\n",
    "continue---->\n",
    "It will terminate only the current iteration of loop.\n",
    "It will resume the control of the program to next iteration of that loop enclosing ‘continue'"
   ]
  },
  {
   "cell_type": "code",
   "execution_count": 30,
   "id": "b81bf005",
   "metadata": {},
   "outputs": [
    {
     "name": "stdout",
     "output_type": "stream",
     "text": [
      "0\n",
      "1\n",
      "2\n",
      "3\n",
      "4\n",
      "5\n"
     ]
    }
   ],
   "source": [
    "#break\n",
    "for i in range(10):\n",
    "    print(i)\n",
    "    if i==5:\n",
    "        break"
   ]
  },
  {
   "cell_type": "code",
   "execution_count": 31,
   "id": "a2e993bb",
   "metadata": {},
   "outputs": [
    {
     "name": "stdout",
     "output_type": "stream",
     "text": [
      "0\n",
      "1\n",
      "2\n",
      "3\n",
      "4\n",
      "5\n",
      "6\n",
      "7\n",
      "8\n",
      "9\n"
     ]
    }
   ],
   "source": [
    "#break\n",
    "for i in range(10):\n",
    "    print(i)\n",
    "    if i==5:\n",
    "        continue"
   ]
  },
  {
   "cell_type": "raw",
   "id": "4d8ab567",
   "metadata": {},
   "source": [
    "11. In a for loop, what is the difference between range(10), range(0, 10), and range(0, 10, 1)?\n",
    "\n",
    "ANSWER:\n",
    "all three do the same task"
   ]
  },
  {
   "cell_type": "code",
   "execution_count": 32,
   "id": "52640570",
   "metadata": {},
   "outputs": [
    {
     "name": "stdout",
     "output_type": "stream",
     "text": [
      "range(0, 10)\n"
     ]
    }
   ],
   "source": [
    "print(range(10))"
   ]
  },
  {
   "cell_type": "code",
   "execution_count": 33,
   "id": "e14b626e",
   "metadata": {},
   "outputs": [
    {
     "name": "stdout",
     "output_type": "stream",
     "text": [
      "range(0, 10)\n"
     ]
    }
   ],
   "source": [
    "print(range(0,10))"
   ]
  },
  {
   "cell_type": "code",
   "execution_count": 34,
   "id": "ac20b8c2",
   "metadata": {},
   "outputs": [
    {
     "name": "stdout",
     "output_type": "stream",
     "text": [
      "range(0, 10)\n"
     ]
    }
   ],
   "source": [
    "print(range(0,10,1))"
   ]
  },
  {
   "cell_type": "raw",
   "id": "d4bf8008",
   "metadata": {},
   "source": [
    "12. Write a short program that prints the numbers 1 to 10 using a for loop. Then write an equivalent program that prints the numbers 1 to 10 using a while loop.\n",
    "\n",
    "ANSWER:"
   ]
  },
  {
   "cell_type": "code",
   "execution_count": 36,
   "id": "33a8dc11",
   "metadata": {},
   "outputs": [
    {
     "name": "stdout",
     "output_type": "stream",
     "text": [
      "0 1 2 3 4 5 6 7 8 9 10 "
     ]
    }
   ],
   "source": [
    "#using for loop\n",
    "for i in range(11):\n",
    "    print(i, end=\" \")"
   ]
  },
  {
   "cell_type": "code",
   "execution_count": 37,
   "id": "142090a2",
   "metadata": {},
   "outputs": [
    {
     "name": "stdout",
     "output_type": "stream",
     "text": [
      "0 1 2 3 4 5 6 7 8 9 10 "
     ]
    }
   ],
   "source": [
    "#using while loop\n",
    "i=0\n",
    "while i < 11:\n",
    "    print(i, end=\" \")\n",
    "    i +=1"
   ]
  },
  {
   "cell_type": "raw",
   "id": "04af4427",
   "metadata": {},
   "source": [
    "13. If you had a function named bacon() inside a module named spam, how would you call it after importing spam?\n",
    "\n",
    "ANSWER:\n",
    "spam.bacon()"
   ]
  }
 ],
 "metadata": {
  "kernelspec": {
   "display_name": "Python 3 (ipykernel)",
   "language": "python",
   "name": "python3"
  },
  "language_info": {
   "codemirror_mode": {
    "name": "ipython",
    "version": 3
   },
   "file_extension": ".py",
   "mimetype": "text/x-python",
   "name": "python",
   "nbconvert_exporter": "python",
   "pygments_lexer": "ipython3",
   "version": "3.9.7"
  }
 },
 "nbformat": 4,
 "nbformat_minor": 5
}
