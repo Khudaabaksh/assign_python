{
 "cells": [
  {
   "cell_type": "raw",
   "id": "0ccba18d",
   "metadata": {},
   "source": [
    "1. To what does a relative path refer?\n",
    "ANSWER:\n",
    "A relative path refers to a location that is relative to a current directory. Relative paths make use of two special symbols, a dot (.) and a double-dot (..), which translate into the current directory and the parent directory. Double dots are used for moving up in the hierarchy. A single dot represents the current directory itself.\n",
    "examples:"
   ]
  },
  {
   "cell_type": "code",
   "execution_count": 16,
   "id": "3f74fba4",
   "metadata": {},
   "outputs": [
    {
     "data": {
      "text/plain": [
       "'C:\\\\Users\\\\hamma'"
      ]
     },
     "execution_count": 16,
     "metadata": {},
     "output_type": "execute_result"
    }
   ],
   "source": [
    "import os\n",
    "os.getcwd()"
   ]
  },
  {
   "cell_type": "code",
   "execution_count": 19,
   "id": "0272a10b",
   "metadata": {},
   "outputs": [
    {
     "data": {
      "text/plain": [
       "'C:\\\\Users\\\\hamma'"
      ]
     },
     "execution_count": 19,
     "metadata": {},
     "output_type": "execute_result"
    }
   ],
   "source": [
    "os.chdir('.') #the current directory itself\n",
    "os.getcwd()"
   ]
  },
  {
   "cell_type": "code",
   "execution_count": 20,
   "id": "1c97b04e",
   "metadata": {},
   "outputs": [
    {
     "data": {
      "text/plain": [
       "'C:\\\\Users'"
      ]
     },
     "execution_count": 20,
     "metadata": {},
     "output_type": "execute_result"
    }
   ],
   "source": [
    "os.chdir(\"..\") #for moving up in the hierarchy\n",
    "os.getcwd()"
   ]
  },
  {
   "cell_type": "raw",
   "id": "7e19783a",
   "metadata": {},
   "source": [
    "2. What does an absolute path start with your operating system?\n",
    "ANSWER:\n",
    "Alternatively referred to as file path and full path, the absolute path contains the root directory and all other subdirectories where a file or folder is contained"
   ]
  },
  {
   "cell_type": "raw",
   "id": "f3318be0",
   "metadata": {},
   "source": [
    "3. What do the functions os.getcwd() and os.chdir() do?\n",
    "ANSWER:\n",
    "os.getcwd()=Return a unicode string representing the current working directory\n",
    "os.chdir()=Change the current working directory to the specified path\n",
    "and for example use question 1 example"
   ]
  },
  {
   "cell_type": "raw",
   "id": "68f6964c",
   "metadata": {},
   "source": [
    "4. What are the . and .. folders?\n",
    "ANSWER: translate into the current directory and the parent directory\n",
    "Double dots are used for moving up in the hierarchy.\n",
    "Single dot represents the current directory itself."
   ]
  },
  {
   "cell_type": "raw",
   "id": "53dfd517",
   "metadata": {},
   "source": [
    "5. In C:\\bacon\\eggs\\spam.txt, which part is the dir name, and which part is the base name?\n",
    "ANSWER:\n",
    "spam.txt=base name\n",
    "C:\\bacon\\eggs\\=dir name"
   ]
  },
  {
   "cell_type": "raw",
   "id": "99647bb3",
   "metadata": {},
   "source": [
    "6. What are the three “mode” arguments that can be passed to the open() function?\n",
    "ANSWER:\n",
    "r: Opens the file in read-only mode.\n",
    "w: Opens in write-only mode\n",
    "a: Opens a file for appending new information to it."
   ]
  },
  {
   "cell_type": "raw",
   "id": "c07310c8",
   "metadata": {},
   "source": [
    "7. What happens if an existing file is opened in write mode?\n",
    "ANSWER:\n",
    "w: \n",
    "The pointer is placed at the beginning of the file and this will overwrite any existing file with the same name."
   ]
  },
  {
   "cell_type": "raw",
   "id": "fc9b54e2",
   "metadata": {},
   "source": [
    "8. How do you tell the difference between read() and readlines()?\n",
    "ANSWER:\n",
    "The read() method returns the file's entire contents as a single string value.\n",
    "The readlines() method returns a list of strings, where each string is a line from the file's content.\n",
    "\n",
    "Let we have a file (test.txt) like so:\n",
    "\n",
    "first line\n",
    "second line\n",
    "third line\n",
    "\n",
    "EXAMPLE for readlines()==\n",
    "open(\"test.txt\", \"r\") as file:\n",
    "    lines = file.readlines()\n",
    "    print(lines)\n",
    "    \n",
    "Output: ['first line\\n', 'second line\\n', 'third line\\n']\n",
    "\n",
    "EXAMPLE for read()==\n",
    "open(\"test.txt\", \"r\") as file:\n",
    "    content = file.read()\n",
    "    print(content)\n",
    "    \n",
    "Output:first line\n",
    "second line\n",
    "third line"
   ]
  },
  {
   "cell_type": "raw",
   "id": "596e3054",
   "metadata": {},
   "source": [
    "9. What data structure does a shelf value resemble?\n",
    "ANSWER:\n",
    "A shelf value resembles a dictionary value; it has keys and values, along with keys() and values() methods that work similarly to the dictionary methods of the same names."
   ]
  }
 ],
 "metadata": {
  "kernelspec": {
   "display_name": "Python 3 (ipykernel)",
   "language": "python",
   "name": "python3"
  },
  "language_info": {
   "codemirror_mode": {
    "name": "ipython",
    "version": 3
   },
   "file_extension": ".py",
   "mimetype": "text/x-python",
   "name": "python",
   "nbconvert_exporter": "python",
   "pygments_lexer": "ipython3",
   "version": "3.9.7"
  }
 },
 "nbformat": 4,
 "nbformat_minor": 5
}
